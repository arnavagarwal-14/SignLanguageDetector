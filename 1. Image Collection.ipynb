{
 "cells": [
  {
   "cell_type": "markdown",
   "metadata": {},
   "source": [
    "# 1. Import Dependencies"
   ]
  },
  {
   "cell_type": "code",
   "execution_count": 2,
   "metadata": {},
   "outputs": [
    {
     "name": "stdout",
     "output_type": "stream",
     "text": [
      "Requirement already satisfied: opencv-python in c:\\users\\arnav\\documents\\arnav\\coding\\tfod-nr\\tfodcourse\\env\\lib\\site-packages (4.5.2.54)\n",
      "Requirement already satisfied: numpy>=1.19.3 in c:\\users\\arnav\\documents\\arnav\\coding\\tfod-nr\\tfodcourse\\env\\lib\\site-packages (from opencv-python) (1.21.0)\n"
     ]
    }
   ],
   "source": [
    "!pip install opencv-python\n"
   ]
  },
  {
   "cell_type": "code",
   "execution_count": 1,
   "metadata": {},
   "outputs": [],
   "source": [
    "# Import opencv\n",
    "import cv2 \n",
    "\n",
    "# Import uuid\n",
    "import uuid\n",
    "\n",
    "# Import Operating System\n",
    "import os\n",
    "\n",
    "# Import time\n",
    "import time"
   ]
  },
  {
   "cell_type": "markdown",
   "metadata": {},
   "source": [
    "# 2. Define Images to Collect"
   ]
  },
  {
   "cell_type": "code",
   "execution_count": 2,
   "metadata": {},
   "outputs": [],
   "source": [
    "labels = ['thumbsup', 'thumbsdown', 'thankyou', 'spock']\n",
    "number_imgs = 5"
   ]
  },
  {
   "cell_type": "code",
   "execution_count": 3,
   "metadata": {},
   "outputs": [
    {
     "data": {
      "text/plain": [
       "list"
      ]
     },
     "execution_count": 3,
     "metadata": {},
     "output_type": "execute_result"
    }
   ],
   "source": [
    "type(labels)"
   ]
  },
  {
   "cell_type": "markdown",
   "metadata": {},
   "source": [
    "# 3. Setup Folders "
   ]
  },
  {
   "cell_type": "code",
   "execution_count": 4,
   "metadata": {},
   "outputs": [],
   "source": [
    "IMAGES_PATH = os.path.join('Tensorflow', 'workspace', 'images', 'collectedimages')"
   ]
  },
  {
   "cell_type": "code",
   "execution_count": 5,
   "metadata": {},
   "outputs": [
    {
     "name": "stdout",
     "output_type": "stream",
     "text": [
      "Tensorflow\\workspace\\images\\collectedimages\n"
     ]
    }
   ],
   "source": [
    "print(IMAGES_PATH)"
   ]
  },
  {
   "cell_type": "code",
   "execution_count": 6,
   "metadata": {},
   "outputs": [],
   "source": [
    "if not os.path.exists(IMAGES_PATH):\n",
    "    if os.name == 'posix':\n",
    "        !mkdir -p {IMAGES_PATH}\n",
    "    if os.name == 'nt':\n",
    "         !mkdir {IMAGES_PATH}\n",
    "for label in labels:\n",
    "    path = os.path.join(IMAGES_PATH, label)\n",
    "    if not os.path.exists(path):\n",
    "        !mkdir {path}"
   ]
  },
  {
   "cell_type": "markdown",
   "metadata": {},
   "source": [
    "# 4. Capture Images"
   ]
  },
  {
   "cell_type": "code",
   "execution_count": 10,
   "metadata": {},
   "outputs": [
    {
     "name": "stdout",
     "output_type": "stream",
     "text": [
      "Collecting images for thumbsup\n",
      "Collecting image 0\n",
      "Collecting image 1\n",
      "Collecting image 2\n",
      "Collecting image 3\n",
      "Collecting image 4\n",
      "Collecting images for thumbsdown\n",
      "Collecting image 0\n",
      "Collecting image 1\n",
      "Collecting image 2\n",
      "Collecting image 3\n",
      "Collecting image 4\n",
      "Collecting images for thankyou\n",
      "Collecting image 0\n",
      "Collecting image 1\n",
      "Collecting image 2\n",
      "Collecting image 3\n",
      "Collecting image 4\n",
      "Collecting images for spock\n",
      "Collecting image 0\n",
      "Collecting image 1\n",
      "Collecting image 2\n",
      "Collecting image 3\n",
      "Collecting image 4\n"
     ]
    }
   ],
   "source": [
    "for label in labels:\n",
    "    cap = cv2.VideoCapture(0)\n",
    "    print('Collecting images for {}'.format(label))\n",
    "    time.sleep(5)\n",
    "    for imgnum in range(number_imgs):\n",
    "        print('Collecting image {}'.format(imgnum))\n",
    "        ret, frame = cap.read()\n",
    "        imgname = os.path.join(IMAGES_PATH,label,label+'.'+'{}.jpg'.format(str(uuid.uuid1())))\n",
    "        cv2.imwrite(imgname, frame)\n",
    "        cv2.imshow('frame', frame)\n",
    "        time.sleep(5)\n",
    "\n",
    "        if cv2.waitKey(1) & 0xFF == ord('q'):\n",
    "            break\n",
    "cap.release()\n",
    "cv2.destroyAllWindows()"
   ]
  },
  {
   "cell_type": "markdown",
   "metadata": {},
   "source": [
    "# 5. Image Labelling"
   ]
  },
  {
   "cell_type": "code",
   "execution_count": 14,
   "metadata": {},
   "outputs": [
    {
     "name": "stdout",
     "output_type": "stream",
     "text": [
      "Collecting pyqt5\n",
      "  Downloading PyQt5-5.15.4-cp36.cp37.cp38.cp39-none-win_amd64.whl (6.8 MB)\n",
      "Collecting lxml\n",
      "  Downloading lxml-4.6.3-cp39-cp39-win_amd64.whl (3.5 MB)\n",
      "Collecting PyQt5-sip<13,>=12.8\n",
      "  Downloading PyQt5_sip-12.9.0-cp39-cp39-win_amd64.whl (63 kB)\n",
      "Collecting PyQt5-Qt5>=5.15\n",
      "  Downloading PyQt5_Qt5-5.15.2-py3-none-win_amd64.whl (50.1 MB)\n",
      "Installing collected packages: PyQt5-sip, PyQt5-Qt5, pyqt5, lxml\n",
      "Successfully installed PyQt5-Qt5-5.15.2 PyQt5-sip-12.9.0 lxml-4.6.3 pyqt5-5.15.4\n"
     ]
    }
   ],
   "source": [
    "!pip install --upgrade pyqt5 lxml"
   ]
  },
  {
   "cell_type": "code",
   "execution_count": 8,
   "metadata": {},
   "outputs": [],
   "source": [
    "LABELIMG_PATH = os.path.join('Tensorflow', 'labelimg')"
   ]
  },
  {
   "cell_type": "code",
   "execution_count": 16,
   "metadata": {},
   "outputs": [
    {
     "name": "stderr",
     "output_type": "stream",
     "text": [
      "Cloning into 'Tensorflow\\labelimg'...\n"
     ]
    }
   ],
   "source": [
    "if not os.path.exists(LABELIMG_PATH):\n",
    "    !mkdir {LABELIMG_PATH}\n",
    "    !git clone https://github.com/tzutalin/labelImg {LABELIMG_PATH}"
   ]
  },
  {
   "cell_type": "code",
   "execution_count": 17,
   "metadata": {},
   "outputs": [],
   "source": [
    "if os.name == 'posix':\n",
    "     !cd {LABELIMG_PATH} && !make qt5py3\n",
    "if os.name =='nt':\n",
    "    !cd {LABELIMG_PATH} && pyrcc5 -o libs/resources.py resources.qrc"
   ]
  },
  {
   "cell_type": "code",
   "execution_count": 11,
   "metadata": {},
   "outputs": [
    {
     "name": "stdout",
     "output_type": "stream",
     "text": [
      "Image:C:\\Users\\arnav\\Documents\\Arnav\\Coding\\TFOD-NR\\TFODCourse\\Tensorflow\\workspace\\images\\collectedimages\\spock\\spock.1b7077f7-de6e-11eb-84aa-7cb27d560350.jpg -> Annotation:C:/Users/arnav/Documents/Arnav/Coding/TFOD-NR/TFODCourse/Tensorflow/workspace/images/collectedimages/spock/spock.1b7077f7-de6e-11eb-84aa-7cb27d560350.xml\n",
      "Image:C:\\Users\\arnav\\Documents\\Arnav\\Coding\\TFOD-NR\\TFODCourse\\Tensorflow\\workspace\\images\\collectedimages\\spock\\spock.1e6fc2f4-de6e-11eb-a6ea-7cb27d560350.jpg -> Annotation:C:/Users/arnav/Documents/Arnav/Coding/TFOD-NR/TFODCourse/Tensorflow/workspace/images/collectedimages/spock/spock.1e6fc2f4-de6e-11eb-a6ea-7cb27d560350.xml\n",
      "Image:C:\\Users\\arnav\\Documents\\Arnav\\Coding\\TFOD-NR\\TFODCourse\\Tensorflow\\workspace\\images\\collectedimages\\spock\\spock.8ae5cf9d-de6d-11eb-82c2-7cb27d560350.jpg -> Annotation:C:/Users/arnav/Documents/Arnav/Coding/TFOD-NR/TFODCourse/Tensorflow/workspace/images/collectedimages/spock/spock.8ae5cf9d-de6d-11eb-82c2-7cb27d560350.xml\n",
      "Image:C:\\Users\\arnav\\Documents\\Arnav\\Coding\\TFOD-NR\\TFODCourse\\Tensorflow\\workspace\\images\\collectedimages\\spock\\spock.8de4dc49-de6d-11eb-b7b6-7cb27d560350.jpg -> Annotation:C:/Users/arnav/Documents/Arnav/Coding/TFOD-NR/TFODCourse/Tensorflow/workspace/images/collectedimages/spock/spock.8de4dc49-de6d-11eb-b7b6-7cb27d560350.xml\n",
      "Image:C:\\Users\\arnav\\Documents\\Arnav\\Coding\\TFOD-NR\\TFODCourse\\Tensorflow\\workspace\\images\\collectedimages\\spock\\spock.90e42d2e-de6d-11eb-85f6-7cb27d560350.jpg -> Annotation:C:/Users/arnav/Documents/Arnav/Coding/TFOD-NR/TFODCourse/Tensorflow/workspace/images/collectedimages/spock/spock.90e42d2e-de6d-11eb-85f6-7cb27d560350.xml\n",
      "Image:C:\\Users\\arnav\\Documents\\Arnav\\Coding\\TFOD-NR\\TFODCourse\\Tensorflow\\workspace\\images\\collectedimages\\spock\\spock.93e52558-de6d-11eb-94bf-7cb27d560350.jpg -> Annotation:C:/Users/arnav/Documents/Arnav/Coding/TFOD-NR/TFODCourse/Tensorflow/workspace/images/collectedimages/spock/spock.93e52558-de6d-11eb-94bf-7cb27d560350.xml\n",
      "Image:C:\\Users\\arnav\\Documents\\Arnav\\Coding\\TFOD-NR\\TFODCourse\\Tensorflow\\workspace\\images\\collectedimages\\spock\\spock.96e2bf65-de6d-11eb-8ada-7cb27d560350.jpg -> Annotation:C:/Users/arnav/Documents/Arnav/Coding/TFOD-NR/TFODCourse/Tensorflow/workspace/images/collectedimages/spock/spock.96e2bf65-de6d-11eb-8ada-7cb27d560350.xml\n",
      "Image:C:\\Users\\arnav\\Documents\\Arnav\\Coding\\TFOD-NR\\TFODCourse\\Tensorflow\\workspace\\images\\collectedimages\\spock\\spock.216dc7e7-de6e-11eb-a7b9-7cb27d560350.jpg -> Annotation:C:/Users/arnav/Documents/Arnav/Coding/TFOD-NR/TFODCourse/Tensorflow/workspace/images/collectedimages/spock/spock.216dc7e7-de6e-11eb-a7b9-7cb27d560350.xml\n",
      "Image:C:\\Users\\arnav\\Documents\\Arnav\\Coding\\TFOD-NR\\TFODCourse\\Tensorflow\\workspace\\images\\collectedimages\\spock\\spock.246b5ed4-de6e-11eb-b5e9-7cb27d560350.jpg -> Annotation:C:/Users/arnav/Documents/Arnav/Coding/TFOD-NR/TFODCourse/Tensorflow/workspace/images/collectedimages/spock/spock.246b5ed4-de6e-11eb-b5e9-7cb27d560350.xml\n",
      "Image:C:\\Users\\arnav\\Documents\\Arnav\\Coding\\TFOD-NR\\TFODCourse\\Tensorflow\\workspace\\images\\collectedimages\\spock\\spock.187062a6-de6e-11eb-931c-7cb27d560350.jpg -> Annotation:C:/Users/arnav/Documents/Arnav/Coding/TFOD-NR/TFODCourse/Tensorflow/workspace/images/collectedimages/spock/spock.187062a6-de6e-11eb-931c-7cb27d560350.xml\n",
      "Image:C:\\Users\\arnav\\Documents\\Arnav\\Coding\\TFOD-NR\\TFODCourse\\Tensorflow\\workspace\\images\\collectedimages\\thumbsdown\\thumbsdown.6a8b3b89-de6d-11eb-96c7-7cb27d560350.jpg -> Annotation:C:/Users/arnav/Documents/Arnav/Coding/TFOD-NR/TFODCourse/Tensorflow/workspace/images/collectedimages/thumbsdown/thumbsdown.6a8b3b89-de6d-11eb-96c7-7cb27d560350.xml\n",
      "Image:C:\\Users\\arnav\\Documents\\Arnav\\Coding\\TFOD-NR\\TFODCourse\\Tensorflow\\workspace\\images\\collectedimages\\thumbsdown\\thumbsdown.6d8ca37b-de6d-11eb-818a-7cb27d560350.jpg -> Annotation:C:/Users/arnav/Documents/Arnav/Coding/TFOD-NR/TFODCourse/Tensorflow/workspace/images/collectedimages/thumbsdown/thumbsdown.6d8ca37b-de6d-11eb-818a-7cb27d560350.xml\n",
      "Image:C:\\Users\\arnav\\Documents\\Arnav\\Coding\\TFOD-NR\\TFODCourse\\Tensorflow\\workspace\\images\\collectedimages\\thumbsdown\\thumbsdown.648f4a6c-de6d-11eb-8e7c-7cb27d560350.jpg -> Annotation:C:/Users/arnav/Documents/Arnav/Coding/TFOD-NR/TFODCourse/Tensorflow/workspace/images/collectedimages/thumbsdown/thumbsdown.648f4a6c-de6d-11eb-8e7c-7cb27d560350.xml\n",
      "Image:C:\\Users\\arnav\\Documents\\Arnav\\Coding\\TFOD-NR\\TFODCourse\\Tensorflow\\workspace\\images\\collectedimages\\thumbsdown\\thumbsdown.678e13df-de6d-11eb-ac8a-7cb27d560350.jpg -> Annotation:C:/Users/arnav/Documents/Arnav/Coding/TFOD-NR/TFODCourse/Tensorflow/workspace/images/collectedimages/thumbsdown/thumbsdown.678e13df-de6d-11eb-ac8a-7cb27d560350.xml\n",
      "Image:C:\\Users\\arnav\\Documents\\Arnav\\Coding\\TFOD-NR\\TFODCourse\\Tensorflow\\workspace\\images\\collectedimages\\thumbsdown\\thumbsdown.708c82b9-de6d-11eb-94a6-7cb27d560350.jpg -> Annotation:C:/Users/arnav/Documents/Arnav/Coding/TFOD-NR/TFODCourse/Tensorflow/workspace/images/collectedimages/thumbsdown/thumbsdown.708c82b9-de6d-11eb-94a6-7cb27d560350.xml\n",
      "Image:C:\\Users\\arnav\\Documents\\Arnav\\Coding\\TFOD-NR\\TFODCourse\\Tensorflow\\workspace\\images\\collectedimages\\thumbsdown\\thumbsdown.f523d727-de6d-11eb-b983-7cb27d560350.jpg -> Annotation:C:/Users/arnav/Documents/Arnav/Coding/TFOD-NR/TFODCourse/Tensorflow/workspace/images/collectedimages/thumbsdown/thumbsdown.f523d727-de6d-11eb-b983-7cb27d560350.xml\n",
      "Image:C:\\Users\\arnav\\Documents\\Arnav\\Coding\\TFOD-NR\\TFODCourse\\Tensorflow\\workspace\\images\\collectedimages\\thumbsdown\\thumbsdown.f8225091-de6d-11eb-8104-7cb27d560350.jpg -> Annotation:C:/Users/arnav/Documents/Arnav/Coding/TFOD-NR/TFODCourse/Tensorflow/workspace/images/collectedimages/thumbsdown/thumbsdown.f8225091-de6d-11eb-8104-7cb27d560350.xml\n",
      "Image:C:\\Users\\arnav\\Documents\\Arnav\\Coding\\TFOD-NR\\TFODCourse\\Tensorflow\\workspace\\images\\collectedimages\\thumbsdown\\thumbsdown.fb224918-de6d-11eb-9bc7-7cb27d560350.jpg -> Annotation:C:/Users/arnav/Documents/Arnav/Coding/TFOD-NR/TFODCourse/Tensorflow/workspace/images/collectedimages/thumbsdown/thumbsdown.fb224918-de6d-11eb-9bc7-7cb27d560350.xml\n",
      "Image:C:\\Users\\arnav\\Documents\\Arnav\\Coding\\TFOD-NR\\TFODCourse\\Tensorflow\\workspace\\images\\collectedimages\\thumbsdown\\thumbsdown.fe20cd66-de6d-11eb-9a03-7cb27d560350.jpg -> Annotation:C:/Users/arnav/Documents/Arnav/Coding/TFOD-NR/TFODCourse/Tensorflow/workspace/images/collectedimages/thumbsdown/thumbsdown.fe20cd66-de6d-11eb-9a03-7cb27d560350.xml\n",
      "Image:C:\\Users\\arnav\\Documents\\Arnav\\Coding\\TFOD-NR\\TFODCourse\\Tensorflow\\workspace\\images\\collectedimages\\thumbsdown\\thumbsdown.f2257322-de6d-11eb-bb85-7cb27d560350.jpg -> Annotation:C:/Users/arnav/Documents/Arnav/Coding/TFOD-NR/TFODCourse/Tensorflow/workspace/images/collectedimages/thumbsdown/thumbsdown.f2257322-de6d-11eb-bb85-7cb27d560350.xml\n",
      "Image:C:\\Users\\arnav\\Documents\\Arnav\\Coding\\TFOD-NR\\TFODCourse\\Tensorflow\\workspace\\images\\collectedimages\\thumbsup\\thumbsup.5a6c4a22-de6d-11eb-8ef8-7cb27d560350.jpg -> Annotation:C:/Users/arnav/Documents/Arnav/Coding/TFOD-NR/TFODCourse/Tensorflow/workspace/images/collectedimages/thumbsup/thumbsup.5a6c4a22-de6d-11eb-8ef8-7cb27d560350.xml\n",
      "Image:C:\\Users\\arnav\\Documents\\Arnav\\Coding\\TFOD-NR\\TFODCourse\\Tensorflow\\workspace\\images\\collectedimages\\thumbsup\\thumbsup.5d696fe2-de6d-11eb-8cdc-7cb27d560350.jpg -> Annotation:C:/Users/arnav/Documents/Arnav/Coding/TFOD-NR/TFODCourse/Tensorflow/workspace/images/collectedimages/thumbsup/thumbsup.5d696fe2-de6d-11eb-8cdc-7cb27d560350.xml\n",
      "Image:C:\\Users\\arnav\\Documents\\Arnav\\Coding\\TFOD-NR\\TFODCourse\\Tensorflow\\workspace\\images\\collectedimages\\thumbsup\\thumbsup.546e6fac-de6d-11eb-bde3-7cb27d560350.jpg -> Annotation:C:/Users/arnav/Documents/Arnav/Coding/TFOD-NR/TFODCourse/Tensorflow/workspace/images/collectedimages/thumbsup/thumbsup.546e6fac-de6d-11eb-bde3-7cb27d560350.xml\n",
      "Image:C:\\Users\\arnav\\Documents\\Arnav\\Coding\\TFOD-NR\\TFODCourse\\Tensorflow\\workspace\\images\\collectedimages\\thumbsup\\thumbsup.576da6b1-de6d-11eb-823d-7cb27d560350.jpg -> Annotation:C:/Users/arnav/Documents/Arnav/Coding/TFOD-NR/TFODCourse/Tensorflow/workspace/images/collectedimages/thumbsup/thumbsup.576da6b1-de6d-11eb-823d-7cb27d560350.xml\n",
      "Image:C:\\Users\\arnav\\Documents\\Arnav\\Coding\\TFOD-NR\\TFODCourse\\Tensorflow\\workspace\\images\\collectedimages\\thumbsup\\thumbsup.5168f9cd-de6d-11eb-89bd-7cb27d560350.jpg -> Annotation:C:/Users/arnav/Documents/Arnav/Coding/TFOD-NR/TFODCourse/Tensorflow/workspace/images/collectedimages/thumbsup/thumbsup.5168f9cd-de6d-11eb-89bd-7cb27d560350.xml\n"
     ]
    },
    {
     "name": "stderr",
     "output_type": "stream",
     "text": [
      "C:\\Users\\arnav\\Documents\\Arnav\\Coding\\TFOD-NR\\TFODCourse\\Tensorflow\\labelimg\\labelImg.py:965: DeprecationWarning: an integer is required (got type float).  Implicit conversion to integers using __int__ is deprecated, and may be removed in a future version of Python.\n",
      "  bar.setValue(bar.value() + bar.singleStep() * units)\n"
     ]
    },
    {
     "name": "stdout",
     "output_type": "stream",
     "text": [
      "Image:C:\\Users\\arnav\\Documents\\Arnav\\Coding\\TFOD-NR\\TFODCourse\\Tensorflow\\workspace\\images\\collectedimages\\thumbsup\\thumbsup.def23996-de6d-11eb-ba9d-7cb27d560350.jpg -> Annotation:C:/Users/arnav/Documents/Arnav/Coding/TFOD-NR/TFODCourse/Tensorflow/workspace/images/collectedimages/thumbsup/thumbsup.def23996-de6d-11eb-ba9d-7cb27d560350.xml\n",
      "Image:C:\\Users\\arnav\\Documents\\Arnav\\Coding\\TFOD-NR\\TFODCourse\\Tensorflow\\workspace\\images\\collectedimages\\thumbsup\\thumbsup.e1f40ef2-de6d-11eb-bcf6-7cb27d560350.jpg -> Annotation:C:/Users/arnav/Documents/Arnav/Coding/TFOD-NR/TFODCourse/Tensorflow/workspace/images/collectedimages/thumbsup/thumbsup.e1f40ef2-de6d-11eb-bcf6-7cb27d560350.xml\n",
      "Image:C:\\Users\\arnav\\Documents\\Arnav\\Coding\\TFOD-NR\\TFODCourse\\Tensorflow\\workspace\\images\\collectedimages\\thumbsup\\thumbsup.e4f237e0-de6d-11eb-b461-7cb27d560350.jpg -> Annotation:C:/Users/arnav/Documents/Arnav/Coding/TFOD-NR/TFODCourse/Tensorflow/workspace/images/collectedimages/thumbsup/thumbsup.e4f237e0-de6d-11eb-b461-7cb27d560350.xml\n",
      "Image:C:\\Users\\arnav\\Documents\\Arnav\\Coding\\TFOD-NR\\TFODCourse\\Tensorflow\\workspace\\images\\collectedimages\\thumbsup\\thumbsup.e7f3c673-de6d-11eb-97d0-7cb27d560350.jpg -> Annotation:C:/Users/arnav/Documents/Arnav/Coding/TFOD-NR/TFODCourse/Tensorflow/workspace/images/collectedimages/thumbsup/thumbsup.e7f3c673-de6d-11eb-97d0-7cb27d560350.xml\n",
      "Image:C:\\Users\\arnav\\Documents\\Arnav\\Coding\\TFOD-NR\\TFODCourse\\Tensorflow\\workspace\\images\\collectedimages\\thumbsup\\thumbsup.eaf34085-de6d-11eb-bb49-7cb27d560350.jpg -> Annotation:C:/Users/arnav/Documents/Arnav/Coding/TFOD-NR/TFODCourse/Tensorflow/workspace/images/collectedimages/thumbsup/thumbsup.eaf34085-de6d-11eb-bb49-7cb27d560350.xml\n",
      "Cancel creation.\n",
      "Image:C:\\Users\\arnav\\Documents\\Arnav\\Coding\\TFOD-NR\\TFODCourse\\Tensorflow\\workspace\\images\\collectedimages\\thankyou\\thankyou.0e473ffc-de6e-11eb-a4df-7cb27d560350.jpg -> Annotation:C:/Users/arnav/Documents/Arnav/Coding/TFOD-NR/TFODCourse/Tensorflow/workspace/images/collectedimages/thankyou/thankyou.0e473ffc-de6e-11eb-a4df-7cb27d560350.xml\n",
      "Image:C:\\Users\\arnav\\Documents\\Arnav\\Coding\\TFOD-NR\\TFODCourse\\Tensorflow\\workspace\\images\\collectedimages\\thankyou\\thankyou.7abe6fd4-de6d-11eb-b1d9-7cb27d560350.jpg -> Annotation:C:/Users/arnav/Documents/Arnav/Coding/TFOD-NR/TFODCourse/Tensorflow/workspace/images/collectedimages/thankyou/thankyou.7abe6fd4-de6d-11eb-b1d9-7cb27d560350.xml\n",
      "Image:C:\\Users\\arnav\\Documents\\Arnav\\Coding\\TFOD-NR\\TFODCourse\\Tensorflow\\workspace\\images\\collectedimages\\thankyou\\thankyou.7dbc748f-de6d-11eb-b843-7cb27d560350.jpg -> Annotation:C:/Users/arnav/Documents/Arnav/Coding/TFOD-NR/TFODCourse/Tensorflow/workspace/images/collectedimages/thankyou/thankyou.7dbc748f-de6d-11eb-b843-7cb27d560350.xml\n",
      "Image:C:\\Users\\arnav\\Documents\\Arnav\\Coding\\TFOD-NR\\TFODCourse\\Tensorflow\\workspace\\images\\collectedimages\\thankyou\\thankyou.77bd7762-de6d-11eb-b786-7cb27d560350.jpg -> Annotation:C:/Users/arnav/Documents/Arnav/Coding/TFOD-NR/TFODCourse/Tensorflow/workspace/images/collectedimages/thankyou/thankyou.77bd7762-de6d-11eb-b786-7cb27d560350.xml\n",
      "Image:C:\\Users\\arnav\\Documents\\Arnav\\Coding\\TFOD-NR\\TFODCourse\\Tensorflow\\workspace\\images\\collectedimages\\thankyou\\thankyou.80bd6d17-de6d-11eb-bc66-7cb27d560350.jpg -> Annotation:C:/Users/arnav/Documents/Arnav/Coding/TFOD-NR/TFODCourse/Tensorflow/workspace/images/collectedimages/thankyou/thankyou.80bd6d17-de6d-11eb-bc66-7cb27d560350.xml\n",
      "Image:C:\\Users\\arnav\\Documents\\Arnav\\Coding\\TFOD-NR\\TFODCourse\\Tensorflow\\workspace\\images\\collectedimages\\thankyou\\thankyou.83baed44-de6d-11eb-a606-7cb27d560350.jpg -> Annotation:C:/Users/arnav/Documents/Arnav/Coding/TFOD-NR/TFODCourse/Tensorflow/workspace/images/collectedimages/thankyou/thankyou.83baed44-de6d-11eb-a606-7cb27d560350.xml\n",
      "Image:C:\\Users\\arnav\\Documents\\Arnav\\Coding\\TFOD-NR\\TFODCourse\\Tensorflow\\workspace\\images\\collectedimages\\thankyou\\thankyou.1145a6a1-de6e-11eb-999a-7cb27d560350.jpg -> Annotation:C:/Users/arnav/Documents/Arnav/Coding/TFOD-NR/TFODCourse/Tensorflow/workspace/images/collectedimages/thankyou/thankyou.1145a6a1-de6e-11eb-999a-7cb27d560350.xml\n",
      "Image:C:\\Users\\arnav\\Documents\\Arnav\\Coding\\TFOD-NR\\TFODCourse\\Tensorflow\\workspace\\images\\collectedimages\\thankyou\\thankyou.0849364c-de6e-11eb-b623-7cb27d560350.jpg -> Annotation:C:/Users/arnav/Documents/Arnav/Coding/TFOD-NR/TFODCourse/Tensorflow/workspace/images/collectedimages/thankyou/thankyou.0849364c-de6e-11eb-b623-7cb27d560350.xml\n",
      "Image:C:\\Users\\arnav\\Documents\\Arnav\\Coding\\TFOD-NR\\TFODCourse\\Tensorflow\\workspace\\images\\collectedimages\\thankyou\\thankyou.05494321-de6e-11eb-aaf8-7cb27d560350.jpg -> Annotation:C:/Users/arnav/Documents/Arnav/Coding/TFOD-NR/TFODCourse/Tensorflow/workspace/images/collectedimages/thankyou/thankyou.05494321-de6e-11eb-aaf8-7cb27d560350.xml\n"
     ]
    }
   ],
   "source": [
    "!cd {LABELIMG_PATH} && python labelImg.py"
   ]
  },
  {
   "cell_type": "markdown",
   "metadata": {},
   "source": [
    "# 6. Move them into a Training and Testing Partition"
   ]
  },
  {
   "cell_type": "markdown",
   "metadata": {},
   "source": [
    "# OPTIONAL - 7. Compress them for Colab Training"
   ]
  },
  {
   "cell_type": "code",
   "execution_count": 20,
   "metadata": {},
   "outputs": [],
   "source": [
    "TRAIN_PATH = os.path.join('Tensorflow', 'workspace', 'images', 'train')\n",
    "TEST_PATH = os.path.join('Tensorflow', 'workspace', 'images', 'test')\n",
    "ARCHIVE_PATH = os.path.join('Tensorflow', 'workspace', 'images', 'archive.tar.gz')"
   ]
  },
  {
   "cell_type": "code",
   "execution_count": 21,
   "metadata": {},
   "outputs": [],
   "source": [
    "!tar -czf {ARCHIVE_PATH} {TRAIN_PATH} {TEST_PATH}"
   ]
  },
  {
   "cell_type": "code",
   "execution_count": null,
   "metadata": {},
   "outputs": [],
   "source": []
  }
 ],
 "metadata": {
  "kernelspec": {
   "display_name": "env",
   "language": "python",
   "name": "env"
  },
  "language_info": {
   "codemirror_mode": {
    "name": "ipython",
    "version": 3
   },
   "file_extension": ".py",
   "mimetype": "text/x-python",
   "name": "python",
   "nbconvert_exporter": "python",
   "pygments_lexer": "ipython3",
   "version": "3.9.5"
  }
 },
 "nbformat": 4,
 "nbformat_minor": 2
}
